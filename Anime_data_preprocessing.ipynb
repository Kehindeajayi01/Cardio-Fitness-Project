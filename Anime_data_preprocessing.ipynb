{
 "cells": [
  {
   "cell_type": "markdown",
   "metadata": {
    "id": "z-Z3P5gYC-Nr"
   },
   "source": [
    "# Anime Rating Case Study"
   ]
  },
  {
   "cell_type": "markdown",
   "metadata": {
    "id": "mVvNF5yJC-N8"
   },
   "source": [
    "## Context\n",
    "\n",
    "Streamist is a streaming company that streams web series and movies for a worldwide audience. Every content on their portal is rated by the viewers, and the portal also provides other information for the content like the number of people who have watched it, the number of people who want to watch it, the number of episodes, duration of an episode, etc.\n",
    "\n",
    "They are currently focusing on the anime available in their portal, and want to identify the most important factors involved in rating an anime. You as a data scientist at Streamist are tasked with identifying the important factors and building a predictive model to predict the rating on an anime.\n",
    "\n",
    "\n",
    "## Objective\n",
    "\n",
    "To preprocess the raw data, analyze it, and build a linear regression model to predict the ratings of anime.\n",
    "\n",
    "\n",
    "## Key Questions\n",
    "\n",
    "1. What are the key factors influencing the rating of an anime?\n",
    "2. Is there a good predictive model for the rating of an anime? What does the performance assessment look like for such a model?\n",
    "\n",
    "\n",
    "## Data Information\n",
    "\n",
    "Each record in the database provides a description of an anime. A detailed data dictionary can be found below.\n",
    "\n",
    "**Data Dictionary**\n",
    "\n",
    "- title - the title of anime\n",
    "- mediaType - format of publication\n",
    "- eps - number of episodes (movies are considered 1 episode)\n",
    "- duration - duration of an episode\n",
    "- ongoing - whether it is ongoing\n",
    "- startYr - year that airing started\n",
    "- finishYr - year that airing finished\n",
    "- sznOfRelease - the season of release (Winter, Spring, Fall)\n",
    "- description - the synopsis of the plot\n",
    "- studios - studios responsible for creation\n",
    "- contentWarn - whether anime has a content warning\n",
    "- watched - number of users that completed it\n",
    "- watching - number of users that are watching it\n",
    "- wantWatch - number of users that want to watch it\n",
    "- dropped - number of users that dropped it before completion\n",
    "- rating - average user rating\n",
    "- votes - number of votes that contribute to rating\n",
    "- tag_<tag/genre> - whether the anime has the certain tag or falls in the certain genre"
   ]
  },
  {
   "cell_type": "markdown",
   "metadata": {
    "id": "ztm8i-vTbbj8"
   },
   "source": [
    "## Let's start coding!"
   ]
  },
  {
   "cell_type": "markdown",
   "metadata": {
    "id": "ZzsW_RNeuNEx"
   },
   "source": [
    "### Import necessary libraries"
   ]
  },
  {
   "cell_type": "code",
   "execution_count": 1,
   "metadata": {},
   "outputs": [],
   "source": [
    "# this will help in making the Python code more structured automatically (good coding practice)\n",
    "\n",
    "# Libraries to help with reading and manipulating data\n",
    "import numpy as np\n",
    "import pandas as pd\n",
    "\n",
    "# Removes the limit for the number of displayed columns\n",
    "pd.set_option(\"display.max_columns\", None)\n",
    "# Sets the limit for the number of displayed rows\n",
    "pd.set_option(\"display.max_rows\", 200)"
   ]
  },
  {
   "cell_type": "markdown",
   "metadata": {},
   "source": [
    "## loading the dataset"
   ]
  },
  {
   "cell_type": "code",
   "execution_count": null,
   "metadata": {
    "id": "STzpWgWu9WJZ"
   },
   "outputs": [],
   "source": []
  },
  {
   "cell_type": "code",
   "execution_count": 73,
   "metadata": {},
   "outputs": [],
   "source": [
    "# checking the shape of the data\n",
    "\n"
   ]
  },
  {
   "cell_type": "code",
   "execution_count": 72,
   "metadata": {
    "id": "jMkR919EC-OK",
    "outputId": "039ef3b2-2905-4b62-8bd8-024e73a2aa85"
   },
   "outputs": [],
   "source": [
    "# let's view a sample of the data\n",
    "\n"
   ]
  },
  {
   "cell_type": "markdown",
   "metadata": {
    "id": "dHkpvxntC-OL"
   },
   "source": [
    "* The `duration` column has values in hours and minutes.\n",
    "* The `studios` column has a list of values.\n",
    "* There are a lot of missing values."
   ]
  },
  {
   "cell_type": "code",
   "execution_count": 4,
   "metadata": {},
   "outputs": [],
   "source": [
    "# creating a copy of the data so that original data remains unchanged\n",
    "\n",
    "df = data.copy()"
   ]
  },
  {
   "cell_type": "code",
   "execution_count": 71,
   "metadata": {
    "id": "sZ4rXL7BC-OO",
    "outputId": "d85c0a38-350c-482e-9bc8-cc90aac78489"
   },
   "outputs": [],
   "source": [
    "# checking for duplicate values in the data\n",
    "\n",
    "\n"
   ]
  },
  {
   "cell_type": "markdown",
   "metadata": {},
   "source": [
    "- There are no duplicate values in the data."
   ]
  },
  {
   "cell_type": "code",
   "execution_count": null,
   "metadata": {},
   "outputs": [],
   "source": []
  },
  {
   "cell_type": "code",
   "execution_count": 70,
   "metadata": {
    "colab": {
     "base_uri": "https://localhost:8080/"
    },
    "id": "3BUEfwoqudEU",
    "outputId": "4f861321-21f4-4fac-f144-1a3486e49f1f"
   },
   "outputs": [],
   "source": [
    "# checking the names of the columns in the data\n",
    "\n"
   ]
  },
  {
   "cell_type": "code",
   "execution_count": 69,
   "metadata": {
    "id": "xDGTh3c2C-OR",
    "outputId": "17c5084b-45eb-412e-de4a-f626cfd5f49b"
   },
   "outputs": [],
   "source": [
    "# checking column datatypes and number of non-null values\n",
    "\n"
   ]
  },
  {
   "cell_type": "markdown",
   "metadata": {
    "id": "6TNX17u6C-OS"
   },
   "source": [
    "* There are many numeric (*float* and *int* type) and string (*object* type) columns in the data.\n",
    "* Dependent variable is the rating of an anime, which is of *float* type.\n",
    "* `ongoing` column is of *bool* type."
   ]
  },
  {
   "cell_type": "code",
   "execution_count": 68,
   "metadata": {
    "id": "YgVk5F0-C-OT",
    "outputId": "be563825-eae1-474b-d2ca-1c107f142a3a"
   },
   "outputs": [],
   "source": [
    "# checking for missing values in the data.\n",
    "\n",
    "\n"
   ]
  },
  {
   "cell_type": "markdown",
   "metadata": {
    "id": "vGlBm81cC-OT"
   },
   "source": [
    "* There are missing values in many columns."
   ]
  },
  {
   "cell_type": "code",
   "execution_count": 67,
   "metadata": {
    "id": "d6hW8EilC-OU",
    "outputId": "a8b3d81e-04bb-4b28-82e6-97fd2908abdf"
   },
   "outputs": [],
   "source": [
    "# Let's look at the statistical summary of the data (Transpose since columns are many)\n",
    "\n",
    "\n"
   ]
  },
  {
   "cell_type": "markdown",
   "metadata": {
    "id": "8ibG8pGdC-OV"
   },
   "source": [
    "* We can see that the anime ratings vary between 0.844 and 4.702, which suggests that the anime were rated on a scale of 0-5.\n",
    "* *TV* is the most occurring type of media.\n",
    "* For anime whose season of release is available, *Spring* is the most common season.\n",
    "* The number of views for the anime in the data has a very wide range (0 to more than 160,000)."
   ]
  },
  {
   "cell_type": "markdown",
   "metadata": {
    "id": "_wveNg0MC-OW"
   },
   "source": [
    "### From the data overview, we see that many columns in the data need to be preprocessed before they can be used for analysis."
   ]
  },
  {
   "cell_type": "markdown",
   "metadata": {
    "id": "b4nzW_a0C-OW"
   },
   "source": [
    "## Data Preprocessing"
   ]
  },
  {
   "cell_type": "markdown",
   "metadata": {
    "id": "lVUbPzCjC-OW"
   },
   "source": [
    "### We will drop the missing values in `rating` column as it is the target variable."
   ]
  },
  {
   "cell_type": "code",
   "execution_count": 66,
   "metadata": {
    "id": "XFhiHcxtC-OX",
    "outputId": "ceebb0b3-c7f3-4356-cced-04d8c8b42fb5",
    "scrolled": true
   },
   "outputs": [],
   "source": [
    "# use subset in dropna to list the column\n",
    "\n"
   ]
  },
  {
   "cell_type": "code",
   "execution_count": 65,
   "metadata": {},
   "outputs": [],
   "source": [
    "# let us reset the dataframe index\n",
    "\n",
    "\n"
   ]
  },
  {
   "cell_type": "code",
   "execution_count": 64,
   "metadata": {
    "id": "EbaOLMD2C-OY",
    "outputId": "27bfd09e-7d09-4238-ccaa-d688bed14096"
   },
   "outputs": [],
   "source": [
    "# checking missing values in rest of the data\n",
    "\n",
    "\n"
   ]
  },
  {
   "cell_type": "markdown",
   "metadata": {
    "id": "yqex1kMAC-OZ"
   },
   "source": [
    "### Let us look at the entries with no start year."
   ]
  },
  {
   "cell_type": "code",
   "execution_count": 63,
   "metadata": {
    "id": "oeTO1tscC-OZ",
    "outputId": "f30a52b0-76f4-4a7f-f25a-2b77bec93186"
   },
   "outputs": [],
   "source": [
    "# startYr with null\n",
    "\n"
   ]
  },
  {
   "cell_type": "markdown",
   "metadata": {
    "id": "p8iEsfyQC-Oa"
   },
   "source": [
    "* We will drop the entries with no start year as this is a difficult column to impute.\n",
    "* The decision to drop these missing values or impute them by a suitable value is subject to domain knowledge, and based on the steps taken to deal with them, the model performance will vary."
   ]
  },
  {
   "cell_type": "markdown",
   "metadata": {},
   "source": [
    "## How to drop missing values"
   ]
  },
  {
   "cell_type": "code",
   "execution_count": 62,
   "metadata": {
    "id": "WyCNPhFrC-Oc",
    "outputId": "d740ee99-b636-4e5d-d632-b4529c82d278"
   },
   "outputs": [],
   "source": [
    "# drop the NAs in startYr\n",
    "\n",
    "\n",
    "# let us reset the dataframe index\n",
    "\n"
   ]
  },
  {
   "cell_type": "code",
   "execution_count": 61,
   "metadata": {
    "id": "Q2_dUxoJC-Od",
    "outputId": "c669abfe-59e7-455f-ba71-5ac4ac26fb79"
   },
   "outputs": [],
   "source": [
    "# checking missing values in rest of the data\n",
    "\n",
    "\n"
   ]
  },
  {
   "cell_type": "markdown",
   "metadata": {
    "id": "EJhURB9WC-Oe"
   },
   "source": [
    "### Let us look at the entries with no finish year."
   ]
  },
  {
   "cell_type": "code",
   "execution_count": 19,
   "metadata": {
    "id": "Wcmra3j4C-Of",
    "outputId": "d579d80d-4e26-4503-f55f-ca00ed6ce344"
   },
   "outputs": [],
   "source": [
    "# finishYr with null\n",
    "\n",
    "\n"
   ]
  },
  {
   "cell_type": "code",
   "execution_count": 18,
   "metadata": {
    "id": "SKToBGpGC-Og",
    "outputId": "b595cb04-b4be-47ee-c82c-88dd71062545"
   },
   "outputs": [],
   "source": [
    "# checking the summary of the data with missing values in finishYr (describe on finishYr with NULL)\n",
    "\n",
    "\n"
   ]
  },
  {
   "cell_type": "markdown",
   "metadata": {
    "id": "Y75vAlp-C-Og"
   },
   "source": [
    "* More than 25% of the entries with missing finish year have started on or after 2018.\n",
    "* So, we will assume that the anime with missing values in `finishYr` are still airing, and fill the values with 2020 (the year the data was collected).\n",
    "* You can experiment by dropping the entries where the finish year is missing.\n",
    "* The decision to drop these missing values or impute them by a suitable value is subject to domain knowledge, and based on the steps taken to deal with them, the model performance will vary."
   ]
  },
  {
   "cell_type": "markdown",
   "metadata": {},
   "source": [
    "## Filling NAs with values"
   ]
  },
  {
   "cell_type": "code",
   "execution_count": 60,
   "metadata": {
    "id": "YEMDKzxgC-Oh",
    "outputId": "ebb9020f-02e3-4bd8-c1fa-eb1324543e1b"
   },
   "outputs": [],
   "source": [
    "# fill the NAs in finishYr with 2020 (set inplace to True)\n",
    "\n",
    "\n",
    "\n",
    "# checking missing values in rest of the data\n",
    "\n"
   ]
  },
  {
   "cell_type": "markdown",
   "metadata": {
    "id": "iiaapA9kC-Oi"
   },
   "source": [
    "* The missing values in `startYr` and `finishYr` columns have been dealt with.\n",
    "* **We will now create a new variable `years_running`, which will be calculated as `finishYr` minus `startYr`.**\n",
    "* **We will also drop the `startYr` and `finishYr` columns.**"
   ]
  },
  {
   "cell_type": "markdown",
   "metadata": {
    "id": "dfbhncOkC-Oi",
    "outputId": "1ced8aa8-d465-44e1-ede5-e7ae0e8454db",
    "scrolled": false
   },
   "source": [
    "## Feature Engineering"
   ]
  },
  {
   "cell_type": "code",
   "execution_count": 59,
   "metadata": {},
   "outputs": [],
   "source": [
    "# create a column called \"years_running\" (finishYr - startYr) to indicate the no of years an anime is airing\n",
    "\n",
    "\n"
   ]
  },
  {
   "cell_type": "code",
   "execution_count": 58,
   "metadata": {},
   "outputs": [],
   "source": [
    "# check the first 5 rows\n",
    "\n"
   ]
  },
  {
   "cell_type": "markdown",
   "metadata": {},
   "source": [
    "## Dropping columns"
   ]
  },
  {
   "cell_type": "code",
   "execution_count": 57,
   "metadata": {},
   "outputs": [],
   "source": [
    "# We can drop the start and finish years\n",
    "\n",
    "\n"
   ]
  },
  {
   "cell_type": "code",
   "execution_count": 56,
   "metadata": {},
   "outputs": [],
   "source": [
    "# check the unique duration\n",
    "\n",
    "\n"
   ]
  },
  {
   "cell_type": "markdown",
   "metadata": {
    "id": "ji0WG2-cC-Oj"
   },
   "source": [
    "### Let's convert the `duration` column from string to numeric."
   ]
  },
  {
   "cell_type": "code",
   "execution_count": 24,
   "metadata": {},
   "outputs": [
    {
     "data": {
      "text/plain": [
       "'10'"
      ]
     },
     "execution_count": 24,
     "metadata": {},
     "output_type": "execute_result"
    }
   ],
   "source": [
    "s1 = \"4hr 10min\"\n",
    "\n"
   ]
  },
  {
   "cell_type": "code",
   "execution_count": null,
   "metadata": {},
   "outputs": [],
   "source": []
  },
  {
   "cell_type": "code",
   "execution_count": 18,
   "metadata": {
    "id": "_N407Y6pC-Oj",
    "outputId": "942ee1e4-8272-4403-bb24-bb56d51cc87d"
   },
   "outputs": [],
   "source": [
    "# we define a function to convert the duration column to numeric  [1 * 60 + 47]\n",
    "\n"
   ]
  },
  {
   "cell_type": "code",
   "execution_count": null,
   "metadata": {},
   "outputs": [],
   "source": []
  },
  {
   "cell_type": "code",
   "execution_count": 55,
   "metadata": {
    "id": "soV5UwUgC-Ok",
    "outputId": "ac0d03b2-bdf1-431a-f613-bbeebb90b740"
   },
   "outputs": [],
   "source": [
    "# let's apply the function to the duration column and overwrite the column\n",
    "\n",
    "\n",
    "\n"
   ]
  },
  {
   "cell_type": "code",
   "execution_count": 20,
   "metadata": {
    "id": "_kemsjt3C-Ol",
    "outputId": "0e6bd705-d870-47c6-e342-299de320ceaa"
   },
   "outputs": [
    {
     "data": {
      "text/plain": [
       "count    7465.000000\n",
       "mean       24.230141\n",
       "std        31.468171\n",
       "min         1.000000\n",
       "25%         4.000000\n",
       "50%         8.000000\n",
       "75%        30.000000\n",
       "max       163.000000\n",
       "Name: duration, dtype: float64"
      ]
     },
     "execution_count": 20,
     "metadata": {},
     "output_type": "execute_result"
    }
   ],
   "source": [
    "# let's check the summary of the duration column (using describe)\n",
    "\n",
    "\n"
   ]
  },
  {
   "cell_type": "markdown",
   "metadata": {
    "id": "cQVUnIBPC-Ot"
   },
   "source": [
    "* 50% of the anime in the data have a runtime less than or equal to 8 minutes.\n",
    "\n",
    "\n",
    "* Some anime even have a runtime of 1 minute.\n",
    "    - This seems strange at first, but a Google search can reveal that there are indeed such anime."
   ]
  },
  {
   "cell_type": "markdown",
   "metadata": {
    "id": "wtfz8OW6C-Ou"
   },
   "source": [
    "### We will fill the missing values in the `sznOfRelease` column with '*is_missing*', which will act as a new category."
   ]
  },
  {
   "cell_type": "code",
   "execution_count": null,
   "metadata": {},
   "outputs": [],
   "source": []
  },
  {
   "cell_type": "code",
   "execution_count": 54,
   "metadata": {
    "id": "g48j_semC-Ov",
    "outputId": "18489cfe-6034-4e80-fba2-2dc10497bbdf"
   },
   "outputs": [],
   "source": [
    "# replace the missing values in \"sznOfRelease\" with \"is_missing\"\n",
    "\n",
    "\n",
    "# check the missing values again\n",
    "\n",
    "\n"
   ]
  },
  {
   "cell_type": "markdown",
   "metadata": {
    "id": "M_h_jlhnC-Ow"
   },
   "source": [
    "**Let's check the number of unique values and the number of times they occur for the `mediaType` column.**"
   ]
  },
  {
   "cell_type": "code",
   "execution_count": null,
   "metadata": {
    "id": "Q3_WLkv7C-Ow",
    "outputId": "e4b70c43-7ff9-4d99-8d2f-1583cbbd2178"
   },
   "outputs": [],
   "source": [
    "\n"
   ]
  },
  {
   "cell_type": "markdown",
   "metadata": {
    "id": "Z0phge34C-Ox"
   },
   "source": [
    "### We will fill the missing values in the `mediaType` column with '*Unknown*', as the exact values for that category are not known."
   ]
  },
  {
   "cell_type": "code",
   "execution_count": 53,
   "metadata": {
    "id": "DmgNTj53C-Ox",
    "outputId": "8d8bd0a7-62a5-4fc4-f1b0-e67cc4323df8"
   },
   "outputs": [],
   "source": [
    "# fill the missing values in mediaType with \"Unknown\"\n",
    "\n",
    "\n",
    "# checking the number of unique values and the number of times they occur\n",
    "\n",
    "\n",
    "\n"
   ]
  },
  {
   "cell_type": "markdown",
   "metadata": {
    "id": "rAFmO8tdC-Oy"
   },
   "source": [
    "- **We saw that the `studios` column has a list of values.**\n",
    "- **Let us remove the leading and trailing square braces from the values in the column.**\n",
    "- **We will also replace the entries with blank lists in these columns with *NaN*.**"
   ]
  },
  {
   "cell_type": "code",
   "execution_count": 52,
   "metadata": {},
   "outputs": [],
   "source": [
    "# check the first few rows again\n",
    "\n"
   ]
  },
  {
   "cell_type": "markdown",
   "metadata": {},
   "source": [
    "### Cleaning Studios column"
   ]
  },
  {
   "cell_type": "code",
   "execution_count": 33,
   "metadata": {},
   "outputs": [
    {
     "data": {
      "text/plain": [
       "\"['Manglobe'\""
      ]
     },
     "execution_count": 33,
     "metadata": {},
     "output_type": "execute_result"
    }
   ],
   "source": [
    "# check the type for studios column\n",
    "row = [\"Manglobe\"]\n",
    "\n",
    "str(row).rstrip(\"]\")\n"
   ]
  },
  {
   "cell_type": "code",
   "execution_count": 51,
   "metadata": {
    "id": "vy-JthgUC-Oz",
    "outputId": "e6fbc51e-283a-48ad-eb13-a6dd444eb4d7"
   },
   "outputs": [],
   "source": [
    "# remove both the left and right square brackets in the studios column\n",
    "\n",
    "\n",
    "\n",
    "# replace blank with NaN\n",
    "\n",
    "\n"
   ]
  },
  {
   "cell_type": "code",
   "execution_count": null,
   "metadata": {},
   "outputs": [],
   "source": []
  },
  {
   "cell_type": "markdown",
   "metadata": {
    "id": "-hgQtKTgC-O1"
   },
   "source": [
    "### Treating the `studios` column"
   ]
  },
  {
   "cell_type": "code",
   "execution_count": 50,
   "metadata": {
    "id": "WVOsGlNYC-O2",
    "outputId": "e43c420d-528e-4e41-8219-563f7139384f",
    "scrolled": false
   },
   "outputs": [],
   "source": [
    "# randomly sample few rows to view again (row 2942)\n",
    "\n"
   ]
  },
  {
   "cell_type": "markdown",
   "metadata": {
    "id": "umG5ma8JC-O2"
   },
   "source": [
    "* We can see that row 2942 has more than one studio, which indicates a collaboration between studios.\n",
    "* We will split the tags column by ', ' and take all the values in one dataframe for further analysis."
   ]
  },
  {
   "cell_type": "code",
   "execution_count": 49,
   "metadata": {
    "id": "ty2QyQkxC-O3",
    "outputId": "adb8070a-8efa-4061-ec43-baaab27140e6"
   },
   "outputs": [],
   "source": [
    "# we want to split the rows with more than one studio, and create a dataframe called \"studio_df\" with a single column from them.\n",
    "studio_df = pd.DataFrame(df[\"studios\"].str.split(\", \", expand = True).values.flatten(), columns = [\"Studios\"])\n",
    "\n"
   ]
  },
  {
   "cell_type": "markdown",
   "metadata": {
    "id": "jRPnfWU1C-O4"
   },
   "source": [
    "* There are too many studios in the data, and adding them all as separate columns will make our data dimension very large.\n",
    "* We will use a threshold, and keep only those studios with at least as many entries as the threshold."
   ]
  },
  {
   "cell_type": "code",
   "execution_count": 37,
   "metadata": {},
   "outputs": [],
   "source": [
    "threshold = 100\n",
    "val_c = studio_df[\"Studios\"].value_counts()\n",
    "\n",
    "studio_list = val_c[val_c.values >= threshold].index.tolist()"
   ]
  },
  {
   "cell_type": "code",
   "execution_count": 38,
   "metadata": {
    "id": "E9CK2vVAC-O4",
    "outputId": "affca3e5-72ab-4610-b4ca-376d3d07ff43"
   },
   "outputs": [],
   "source": [
    "# we take 100 as threshold (Note: this is just an arbitrary number)\n",
    "\n",
    "\n",
    "# filter out all studios less than the threshold\n",
    "\n",
    "\n"
   ]
  },
  {
   "cell_type": "markdown",
   "metadata": {
    "id": "Q4cSOAn9C-O5"
   },
   "source": [
    "* 100 looks to be a good threshold.\n",
    "* We will keep only those studios that have created more than 100 anime, and the rest we will assign as '*Others*'.\n",
    "* You can experiment by using a different threshold."
   ]
  },
  {
   "cell_type": "code",
   "execution_count": 41,
   "metadata": {
    "id": "E6L542T5C-O6",
    "outputId": "8d3f9594-c9e1-4054-eb74-cdc0808ba002"
   },
   "outputs": [],
   "source": [
    "# convert the filtered studio to a list of studios\n",
    "\n"
   ]
  },
  {
   "cell_type": "code",
   "execution_count": 39,
   "metadata": {
    "id": "v0Hhq4LHC-O7",
    "outputId": "816a16cf-93e1-4d4e-98da-c95b0d86e50e"
   },
   "outputs": [],
   "source": [
    "# let us create another copy of our dataframe called df1\n",
    "\n",
    "df1 = df.copy()\n"
   ]
  },
  {
   "cell_type": "code",
   "execution_count": 40,
   "metadata": {
    "id": "0L9QCCxlC-O8",
    "outputId": "19ad7bcc-7861-4446-e840-88a377a707f7"
   },
   "outputs": [
    {
     "data": {
      "text/plain": [
       "0"
      ]
     },
     "execution_count": 40,
     "metadata": {},
     "output_type": "execute_result"
    }
   ],
   "source": [
    "# first we will fill missing values in the studio column by 'Others'\n",
    "df1.studios.fillna(\"'Others'\", inplace=True)\n",
    "\n",
    "\n",
    "\n",
    "df1.studios.isnull().sum()"
   ]
  },
  {
   "cell_type": "markdown",
   "metadata": {
    "id": "nmhm0YmeC-O8"
   },
   "source": [
    "* We will now assign the studio names to the entries.\n",
    "* We will also create a new variable that will show if collaboration between studios was involved for creating an anime."
   ]
  },
  {
   "cell_type": "code",
   "execution_count": 48,
   "metadata": {
    "id": "XphYyOIyC-O9",
    "outputId": "5a732644-c1cf-48eb-d03e-41aa9df815c3"
   },
   "outputs": [],
   "source": [
    "studio_val = []\n",
    "\n",
    "for i in range(df1.shape[0]):  # iterate over all rows in data\n",
    "    txt = df1.studios.values[i]  # getting the values in studios column\n",
    "    flag = 0  # flag variable\n",
    "    for item in studio_list:  # iterate over the list of studios considered\n",
    "        if item in txt and flag == 0:  # checking if studio name is in the row\n",
    "            studio_val.append(item)\n",
    "            flag = 1\n",
    "    if flag == 0:  # if the row values is different from the list of studios considered\n",
    "        studio_val.append(\"'Others'\")\n",
    "\n",
    "\n"
   ]
  },
  {
   "cell_type": "code",
   "execution_count": null,
   "metadata": {},
   "outputs": [],
   "source": []
  },
  {
   "cell_type": "code",
   "execution_count": 47,
   "metadata": {},
   "outputs": [],
   "source": [
    "# remove the unnecessary string in studio names\n",
    "#df1[\"studio_primary\"] = [item.strip(\"'\") for item in studio_val]\n",
    "\n",
    "\n"
   ]
  },
  {
   "cell_type": "code",
   "execution_count": 46,
   "metadata": {},
   "outputs": [],
   "source": [
    "#df1.studios.str.split(\", \", expand=True).iloc[:, 1].unique()"
   ]
  },
  {
   "cell_type": "code",
   "execution_count": 48,
   "metadata": {
    "id": "8OhS73b9C-O_",
    "outputId": "194c1d72-b566-4da0-af85-f7d3103c05db"
   },
   "outputs": [],
   "source": [
    "# we will create a list defining whether there is a collaboration between studios\n",
    "# we will check if the second split has None values, which will mean no collaboration between studios\n",
    "studio_val2 = [\n",
    "    0 if item is None else 1\n",
    "    for item in df1.studios.str.split(\", \", expand=True).iloc[:, 1]]\n",
    "\n",
    "df1[\"studios_colab\"] = studio_val2\n",
    "\n",
    "\n"
   ]
  },
  {
   "cell_type": "markdown",
   "metadata": {
    "id": "F1uRvVJIC-PA"
   },
   "source": [
    "**We will now drop the `studios` column.**"
   ]
  },
  {
   "cell_type": "code",
   "execution_count": 43,
   "metadata": {
    "id": "f0m3jKymC-PB",
    "outputId": "ddbd9980-009a-468b-dbf0-245169105d8b"
   },
   "outputs": [],
   "source": [
    "# drop the studios column\n",
    "\n",
    "\n"
   ]
  },
  {
   "cell_type": "markdown",
   "metadata": {
    "id": "zLi74jneC-PO"
   },
   "source": [
    "### We have preprocessed the columns with a list of values. We now have the same clean data with which we started the previous session.\n",
    "\n",
    "**The only change is that we have replaced the '*is_missing*' category in the `studio_primary` columns by '*Others*'.**"
   ]
  },
  {
   "cell_type": "markdown",
   "metadata": {
    "id": "ZiGe1bt-C-PO"
   },
   "source": [
    "### Next, we will impute the missing values in the data."
   ]
  },
  {
   "cell_type": "code",
   "execution_count": 41,
   "metadata": {
    "id": "IRN_iPznC-PP",
    "outputId": "13497d8c-4ea5-4e5c-9d67-c799424731b9"
   },
   "outputs": [],
   "source": [
    "# checking missing values in rest of the data\n",
    "\n",
    "\n"
   ]
  },
  {
   "cell_type": "markdown",
   "metadata": {
    "id": "gwm_sNdJC-PP"
   },
   "source": [
    "### We will fill the missing values in `duration` and `watched` columns by the median values grouped by `studio_primary` and `mediaType`."
   ]
  },
  {
   "cell_type": "code",
   "execution_count": 44,
   "metadata": {
    "id": "Mg5ZrxWZC-PQ",
    "outputId": "3e0b0d52-0b01-4c8c-c78e-e382d3bc22ce"
   },
   "outputs": [],
   "source": [
    "# copy the data to a new dataframe\n",
    "#df2 = df1.copy()\n",
    "\n",
    "#df2[[\"duration\", \"watched\"]] = df2.groupby([\"studio_primary\", \"mediaType\"])[[\"duration\", \"watched\"]].transform(lambda x: x.fillna(x.median()))\n",
    "\n",
    "# checking for missing values\n",
    "\n"
   ]
  },
  {
   "cell_type": "markdown",
   "metadata": {
    "id": "8adi0GxNC-PQ"
   },
   "source": [
    "### We will fill the remaining missing values in `duration` column by column median."
   ]
  },
  {
   "cell_type": "code",
   "execution_count": 52,
   "metadata": {
    "id": "p2xDiwPcC-PR",
    "outputId": "d14d5e91-1ddd-4735-af79-f0248d4d36f9"
   },
   "outputs": [],
   "source": [
    "\n",
    "#df2[\"duration\"].fillna(df2[\"duration\"].median(), inplace = True)"
   ]
  },
  {
   "cell_type": "code",
   "execution_count": 45,
   "metadata": {},
   "outputs": [],
   "source": [
    "# check for missing values\n",
    "\n"
   ]
  },
  {
   "cell_type": "markdown",
   "metadata": {
    "id": "JLOi5O_lC-PR"
   },
   "source": [
    "### We will now drop the `description` and `title` columns."
   ]
  },
  {
   "cell_type": "code",
   "execution_count": 54,
   "metadata": {
    "id": "6lX943zrC-PR",
    "outputId": "c0954a92-44be-4703-f0a3-1d38be06c5e7"
   },
   "outputs": [],
   "source": [
    "# drop the description and the title columns\n",
    "\n",
    "\n",
    "# let's check the summary of our data\n",
    "\n",
    "\n"
   ]
  },
  {
   "cell_type": "code",
   "execution_count": null,
   "metadata": {},
   "outputs": [],
   "source": []
  },
  {
   "cell_type": "markdown",
   "metadata": {},
   "source": [
    "### Save the cleaned data"
   ]
  },
  {
   "cell_type": "code",
   "execution_count": 59,
   "metadata": {},
   "outputs": [],
   "source": []
  },
  {
   "cell_type": "code",
   "execution_count": 61,
   "metadata": {},
   "outputs": [],
   "source": []
  },
  {
   "cell_type": "code",
   "execution_count": null,
   "metadata": {},
   "outputs": [],
   "source": []
  },
  {
   "cell_type": "code",
   "execution_count": null,
   "metadata": {},
   "outputs": [],
   "source": []
  },
  {
   "cell_type": "code",
   "execution_count": null,
   "metadata": {},
   "outputs": [],
   "source": []
  },
  {
   "cell_type": "code",
   "execution_count": null,
   "metadata": {},
   "outputs": [],
   "source": []
  },
  {
   "cell_type": "code",
   "execution_count": null,
   "metadata": {},
   "outputs": [],
   "source": []
  },
  {
   "cell_type": "code",
   "execution_count": null,
   "metadata": {},
   "outputs": [],
   "source": []
  },
  {
   "cell_type": "code",
   "execution_count": null,
   "metadata": {},
   "outputs": [],
   "source": []
  },
  {
   "cell_type": "markdown",
   "metadata": {},
   "source": [
    "### <a id='link1'>Summary of EDA</a>\n",
    "\n",
    "**Data Description:**\n",
    "\n",
    "- The target variable (`rating`) is of *float* type.\n",
    "- Columns like `title`, `description`, `mediaType`, `studio`, etc. are of *object* type.\n",
    "- `ongoing` column is of *bool* type.\n",
    "- All other columns are numeric in nature.\n",
    "- There are no duplicate values in the data.\n",
    "- There are a lot of missing values in the data.\n",
    "\n",
    "\n",
    "**Data Cleaning:**\n",
    "\n",
    "- The `title` and `description` columns are dropped for modeling as they are highly textual in nature.\n",
    "- The `duration` column was converted from string to numeric by applying the *time_to_minutes* function.\n",
    "- The `studios` column was processed to convert the list of values into a suitable format for analysis and modeling.\n",
    "- The missing values in the data are treated as follows:\n",
    "    - Missing values in the target variable `rating` were dropped.\n",
    "    - Missing values in `startYr` were dropped.\n",
    "    - Missing values in `finishYr` were imputed with *2020*.\n",
    "    - Missing values in `sznOfRelease` were imputed with a new category *'is_missing'*.\n",
    "    - Missing values in `mediaType` were imputed with a new category *'Unknown'*.\n",
    "    - Missing values in `duration` and `watched` columns were imputed by the median values grouped by `studio_primary` and `mediaType`. The remaining missing values in these columns, if any, were imputed by column medians over the entire data.\n",
    "- The `startYr` and `finishYr` columns were combined to create a new feature `years_running`. The original columns were then dropped.\n"
   ]
  },
  {
   "cell_type": "markdown",
   "metadata": {},
   "source": [
    "## Exercise 2\n",
    "1.\tUsing the Names.csv data, read in the data and set the columns of the data as (First_name, Last_name, Address, City, State, Area_code, and Income) in this order. \n",
    " \n",
    "2.\tCreate another column in the Names data and name it “Tax”, which has value 0.25 where the income is between 10000 and 40000, 0.3 for income between 40000 and 80000, and 0.35 for values greater than 80000. \n",
    " \n",
    "3.\tUsing the shifts.xlsx data, find the total Units sold for each of the regions. \n",
    " \n",
    "4.\tFind the top three sales reps that had the highest units sold in total, also listing the total units sold by each of them. \n",
    " \n",
    "5.\tUsing visualization, find the product with the highest unit sold and state the units sold. \n",
    " \n",
    "6.\tSimilarly, using visualization, find the region with the highest units sold. \n",
    " \n",
    "7.\tCreate a visualization to examine the shift with the highest units sold. \n"
   ]
  },
  {
   "cell_type": "code",
   "execution_count": null,
   "metadata": {},
   "outputs": [],
   "source": []
  }
 ],
 "metadata": {
  "colab": {
   "name": "AIML_SLR_MLS2_AnimeRatingPrediction.ipynb",
   "provenance": []
  },
  "kernelspec": {
   "display_name": "Python 3",
   "language": "python",
   "name": "python3"
  },
  "language_info": {
   "codemirror_mode": {
    "name": "ipython",
    "version": 3
   },
   "file_extension": ".py",
   "mimetype": "text/x-python",
   "name": "python",
   "nbconvert_exporter": "python",
   "pygments_lexer": "ipython3",
   "version": "3.7.10"
  }
 },
 "nbformat": 4,
 "nbformat_minor": 1
}
